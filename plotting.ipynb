{
 "cells": [
  {
   "cell_type": "code",
   "execution_count": 57,
   "metadata": {},
   "outputs": [],
   "source": [
    "from pyDOE2 import *\n",
    "import pandas as pd\n",
    "import numpy as np\n",
    "import scipy.stats as stats\n",
    "import researchpy as rp\n",
    "import statsmodels.api as sm\n",
    "from statsmodels.formula.api import ols\n",
    "import matplotlib.pyplot as plt"
   ]
  },
  {
   "cell_type": "code",
   "execution_count": 58,
   "metadata": {},
   "outputs": [],
   "source": [
    "data_shuffeled = pd.read_csv(\"results.csv\")\n",
    "\n",
    "counter = 0\n",
    "for k in range(3):\n",
    "    for i in range(48):\n",
    "        for j in range(5):\n",
    "            data.iloc[counter] = data_shuffeled.iloc[(48*j + i)+k*240]\n",
    "            counter += 1\n",
    "            \n",
    "training_time = data['training_time']\n",
    "        "
   ]
  },
  {
   "cell_type": "code",
   "execution_count": 59,
   "metadata": {},
   "outputs": [
    {
     "name": "stdout",
     "output_type": "stream",
     "text": [
      "Standard: \n",
      "Hybrid: \n",
      "Optimized: \n",
      "-25.87213082775212\n",
      "-25.60363699416954\n"
     ]
    }
   ],
   "source": [
    "setup1 = data[:240:2]\n",
    "training_time = setup1['accuracy'].mean()\n",
    "print(\"Standard: \")\n",
    "setup2 = data[240:480:2]\n",
    "print(\"Hybrid: \")\n",
    "acc2 = setup2['accuracy'].mean()\n",
    "setup3 = data[480:720:2]\n",
    "print(\"Optimized: \")\n",
    "acc3 = setup3['accuracy'].mean()\n",
    "\n",
    "\n",
    "print(((acc2 - acc1) / acc1) * 100)\n",
    "print(((acc3 - acc1) / acc1) * 100)"
   ]
  },
  {
   "cell_type": "code",
   "execution_count": 60,
   "metadata": {},
   "outputs": [
    {
     "data": {
      "text/plain": [
       "<AxesSubplot:xlabel='accuracy', ylabel='training_time'>"
      ]
     },
     "execution_count": 60,
     "metadata": {},
     "output_type": "execute_result"
    },
    {
     "data": {
      "text/plain": [
       "<Figure size 432x288 with 0 Axes>"
      ]
     },
     "metadata": {},
     "output_type": "display_data"
    },
    {
     "data": {
      "image/png": "[encoded data removed]",
      "text/plain": [
       "<Figure size 432x288 with 1 Axes>"
      ]
     },
     "metadata": {
      "needs_background": "light"
     },
     "output_type": "display_data"
    }
   ],
   "source": [
    "fig1 = plt.figure()\n",
    "ax=setup1.plot.scatter(x='accuracy', y='training_time', color='r')\n",
    "setup2.plot.scatter(x='accuracy', y='training_time', color='b', ax=ax)\n",
    "setup3.plot.scatter(x='accuracy', y='training_time', color='g', ax=ax)"
   ]
  },
  {
   "cell_type": "code",
   "execution_count": 90,
   "metadata": {},
   "outputs": [
    {
     "name": "stdout",
     "output_type": "stream",
     "text": [
      "0      0.007915\n",
      "1      0.008249\n",
      "2      0.008375\n",
      "3      0.008540\n",
      "4      0.008743\n",
      "         ...   \n",
      "715    0.032350\n",
      "716    0.032257\n",
      "717    0.032321\n",
      "718    0.031988\n",
      "719    0.032778\n",
      "Name: price, Length: 720, dtype: float64\n"
     ]
    }
   ],
   "source": [
    "price_standard =  0.194236\n",
    "price_optimized = 0.2088\n",
    "\n",
    "standard_price = data['training_time'][:240] / 3600000 * (price_standard)\n",
    "hybrid_price = data['training_time'][240:480] / 3600000 * (price_standard + price_optimized)/2\n",
    "optimized_price = data['training_time'][480:720] / 3600000 * (price_optimized)\n",
    "\n",
    "data['price'] = pd.concat([standard_price, hybrid_price, optimized_price])\n",
    "print(data['price'])\n"
   ]
  },
  {
   "cell_type": "code",
   "execution_count": 91,
   "metadata": {},
   "outputs": [
    {
     "data": {
      "text/plain": [
       "<AxesSubplot:xlabel='max_epochs', ylabel='price'>"
      ]
     },
     "execution_count": 91,
     "metadata": {},
     "output_type": "execute_result"
    },
    {
     "data": {
      "text/plain": [
       "<Figure size 432x288 with 0 Axes>"
      ]
     },
     "metadata": {},
     "output_type": "display_data"
    },
    {
     "data": {
      "image/png": "[encoded data removed]",
      "text/plain": [
       "<Figure size 432x288 with 1 Axes>"
      ]
     },
     "metadata": {
      "needs_background": "light"
     },
     "output_type": "display_data"
    }
   ],
   "source": [
    "fig2 = plt.figure()\n",
    "ax=setup1.plot.scatter(x='max_epochs', y='price', color='r')\n",
    "setup2.plot.scatter(x='max_epochs', y='price', color='b', ax=ax)\n",
    "setup3.plot.scatter(x='max_epochs', y='price', color='g', ax=ax)"
   ]
  },
  {
   "cell_type": "code",
   "execution_count": 100,
   "metadata": {},
   "outputs": [
    {
     "name": "stdout",
     "output_type": "stream",
     "text": [
      "     Index setup  batch_size  max_epochs  learning_rate  memory_size model  \\\n",
      "0     96.0   NaN       128.0         5.0          0.010       6000.0   NaN   \n",
      "1     97.0   NaN       128.0         5.0          0.010       6000.0   NaN   \n",
      "2     98.0   NaN       128.0         5.0          0.010      12000.0   NaN   \n",
      "3     99.0   NaN       128.0         5.0          0.010      12000.0   NaN   \n",
      "4    100.0   NaN       128.0         5.0          0.005       6000.0   NaN   \n",
      "..     ...   ...         ...         ...            ...          ...   ...   \n",
      "139  619.0   NaN       256.0        20.0          0.010      12000.0   NaN   \n",
      "140  620.0   NaN       256.0        20.0          0.005       6000.0   NaN   \n",
      "141  621.0   NaN       256.0        20.0          0.005       6000.0   NaN   \n",
      "142  622.0   NaN       256.0        20.0          0.005      12000.0   NaN   \n",
      "143  623.0   NaN       256.0        20.0          0.005      12000.0   NaN   \n",
      "\n",
      "     accuracy  training_time     price  \n",
      "0     0.92274  155022.781939  0.008364  \n",
      "1     0.35078  239056.010249  0.012898  \n",
      "2     0.92480  154667.854417  0.008345  \n",
      "3     0.31518  241917.421240  0.013053  \n",
      "4     0.88498  155147.410842  0.008371  \n",
      "..        ...            ...       ...  \n",
      "139   0.49292  563069.615801  0.032658  \n",
      "140   0.91838  278289.412082  0.016141  \n",
      "141   0.26566  561941.999524  0.032593  \n",
      "142   0.91184  275930.007692  0.016004  \n",
      "143   0.29814  557566.302007  0.032339  \n",
      "\n",
      "[144 rows x 10 columns]\n"
     ]
    }
   ],
   "source": [
    "means = data.copy()[:144]\n",
    "\n",
    "for i in range (0, len(data), 5):\n",
    "    means.iloc[int(i/5)] = data.iloc[i:i+5].mean()\n",
    "print(means)"
   ]
  },
  {
   "cell_type": "code",
   "execution_count": 115,
   "metadata": {},
   "outputs": [
    {
     "data": {
      "text/plain": [
       "<AxesSubplot:xlabel='max_epochs', ylabel='price'>"
      ]
     },
     "execution_count": 115,
     "metadata": {},
     "output_type": "execute_result"
    },
    {
     "data": {
      "text/plain": [
       "<Figure size 432x288 with 0 Axes>"
      ]
     },
     "metadata": {},
     "output_type": "display_data"
    },
    {
     "data": {
      "image/png": "[encoded data removed]",
      "text/plain": [
       "<Figure size 432x288 with 1 Axes>"
      ]
     },
     "metadata": {
      "needs_background": "light"
     },
     "output_type": "display_data"
    }
   ],
   "source": [
    "setup1_mean = means[:48]\n",
    "setup2_mean = means[48:96]\n",
    "setup3_mean = means[96:144]\n",
    "fig3 = plt.figure()\n",
    "ax=setup1_mean.plot.scatter(x='max_epochs', y='price', color='r')\n",
    "setup2_mean.plot.scatter(x='max_epochs', y='price', color='b', ax=ax)\n",
    "setup3_mean.plot.scatter(x='max_epochs', y='price', color='g', ax=ax)"
   ]
  },
  {
   "cell_type": "code",
   "execution_count": 126,
   "metadata": {},
   "outputs": [
    {
     "name": "stdout",
     "output_type": "stream",
     "text": [
      "0:hybrid\n",
      "1:hybrid\n",
      "2:hybrid\n",
      "3:hybrid\n",
      "4:hybrid\n",
      "5:hybrid\n",
      "6:hybrid\n",
      "7:hybrid\n",
      "8:hybrid\n",
      "9:hybrid\n",
      "10:hybrid\n",
      "11:hybrid\n",
      "12:hybrid\n",
      "13:hybrid\n",
      "14:hybrid\n",
      "15:hybrid\n",
      "16:optimized\n",
      "17:optimized\n",
      "18:optimized\n",
      "19:optimized\n",
      "20:optimized\n",
      "21:optimized\n",
      "22:optimized\n",
      "23:optimized\n",
      "24:hybrid\n",
      "25:hybrid\n",
      "26:hybrid\n",
      "27:hybrid\n",
      "28:hybrid\n",
      "29:hybrid\n",
      "30:hybrid\n",
      "31:hybrid\n",
      "32:hybrid\n",
      "33:hybrid\n",
      "34:hybrid\n",
      "35:hybrid\n",
      "36:hybrid\n",
      "37:hybrid\n",
      "38:hybrid\n",
      "39:hybrid\n",
      "40:optimized\n",
      "41:optimized\n",
      "42:optimized\n",
      "43:standard\n",
      "44:optimized\n",
      "45:optimized\n",
      "46:optimized\n",
      "47:optimized\n"
     ]
    }
   ],
   "source": [
    "for i in range(len(setup1_mean)):\n",
    "    if setup1_mean['price'].iloc[i] < setup2_mean['price'].iloc[i] and setup1_mean['price'].iloc[i] < setup3_mean['price'].iloc[i]:\n",
    "        print(str(i)  + ':standard')\n",
    "    if setup2_mean['price'].iloc[i] < setup1_mean['price'].iloc[i] and setup2_mean['price'].iloc[i] < setup3_mean['price'].iloc[i]:\n",
    "        print(str(i) + ':hybrid')\n",
    "    if setup3_mean['price'].iloc[i] < setup1_mean['price'].iloc[i] and setup3_mean['price'].iloc[i] < setup2_mean['price'].iloc[i]:\n",
    "        print(str(i) + ':optimized')\n",
    "\n",
    "    "
   ]
  },
  {
   "cell_type": "code",
   "execution_count": 127,
   "metadata": {},
   "outputs": [
    {
     "name": "stdout",
     "output_type": "stream",
     "text": [
      "0.02462956590963227\n",
      "0.023999319488490368\n",
      "0.024837502338462002\n"
     ]
    }
   ],
   "source": [
    "index = 15\n",
    "print(setup1_mean['price'].iloc[index])\n",
    "print(setup2_mean['price'].iloc[index])\n",
    "print(setup3_mean['price'].iloc[index])"
   ]
  },
  {
   "cell_type": "code",
   "execution_count": 128,
   "metadata": {},
   "outputs": [
    {
     "name": "stdout",
     "output_type": "stream",
     "text": [
      "0.8387103496053194\n",
      "0.9051177613022665\n",
      "-0.07336880849780403\n"
     ]
    }
   ],
   "source": [
    "\n",
    "optimalcost = setup2_mean['price'].iloc[:15].sum() + setup3_mean['price'].iloc[15:23].sum() + setup2_mean['price'].iloc[23:39].sum() + setup3_mean['price'].iloc[39:42].sum() + setup1_mean['price'].iloc[43] + setup3_mean['price'].iloc[44:47].sum()\n",
    "standardcost = setup1_mean['price'].sum()\n",
    "print(optimalcost)\n",
    "print(standardcost)\n",
    "print((optimalcost-standardcost)/standardcost)\n"
   ]
  },
  {
   "cell_type": "code",
   "execution_count": 129,
   "metadata": {},
   "outputs": [
    {
     "name": "stdout",
     "output_type": "stream",
     "text": [
      "0:optimized\n",
      "1:optimized\n",
      "2:hybrid\n",
      "3:hybrid\n",
      "4:hybrid\n",
      "5:optimized\n",
      "6:hybrid\n",
      "7:optimized\n",
      "8:hybrid\n",
      "9:optimized\n",
      "10:hybrid\n",
      "11:hybrid\n",
      "12:hybrid\n",
      "13:hybrid\n",
      "14:hybrid\n",
      "15:optimized\n",
      "16:optimized\n",
      "17:optimized\n",
      "18:optimized\n",
      "19:optimized\n",
      "20:optimized\n",
      "21:optimized\n",
      "22:optimized\n",
      "23:optimized\n",
      "24:hybrid\n",
      "25:hybrid\n",
      "26:hybrid\n",
      "27:hybrid\n",
      "28:hybrid\n",
      "29:optimized\n",
      "30:hybrid\n",
      "31:hybrid\n",
      "32:hybrid\n",
      "33:optimized\n",
      "34:hybrid\n",
      "35:optimized\n",
      "36:hybrid\n",
      "37:optimized\n",
      "38:hybrid\n",
      "39:optimized\n",
      "40:optimized\n",
      "41:optimized\n",
      "42:optimized\n",
      "43:optimized\n",
      "44:optimized\n",
      "45:optimized\n",
      "46:optimized\n",
      "47:optimized\n"
     ]
    }
   ],
   "source": [
    "for i in range(len(setup1_mean)):\n",
    "    if setup1_mean['training_time'].iloc[i] < setup2_mean['training_time'].iloc[i] and setup1_mean['training_time'].iloc[i] < setup3_mean['training_time'].iloc[i]:\n",
    "        print(str(i)  + ':standard')\n",
    "    if setup2_mean['training_time'].iloc[i] < setup1_mean['training_time'].iloc[i] and setup2_mean['training_time'].iloc[i] < setup3_mean['training_time'].iloc[i]:\n",
    "        print(str(i) + ':hybrid')\n",
    "    if setup3_mean['training_time'].iloc[i] < setup1_mean['training_time'].iloc[i] and setup3_mean['training_time'].iloc[i] < setup2_mean['training_time'].iloc[i]:\n",
    "        print(str(i) + ':optimized')"
   ]
  },
  {
   "cell_type": "code",
   "execution_count": null,
   "metadata": {},
   "outputs": [],
   "source": [
    "optimalcost = setup2_mean['price'].iloc[:15].sum() + setup3_mean['price'].iloc[15:23].sum() + setup2_mean['price'].iloc[23:39].sum() + setup3_mean['price'].iloc[39:42].sum() + setup1_mean['price'].iloc[43] + setup3_mean['price'].iloc[44:47].sum()\n",
    "standardcost = setup1_mean['price'].sum()\n",
    "print(optimalcost)\n",
    "print(standardcost)\n",
    "print((optimalcost-standardcost)/standardcost)"
   ]
  }
 ],
 "metadata": {
  "kernelspec": {
   "display_name": "Python 3",
   "language": "python",
   "name": "python3"
  },
  "language_info": {
   "codemirror_mode": {
    "name": "ipython",
    "version": 3
   },
   "file_extension": ".py",
   "mimetype": "text/x-python",
   "name": "python",
   "nbconvert_exporter": "python",
   "pygments_lexer": "ipython3",
   "version": "3.6.12"
  }
 },
 "nbformat": 4,
 "nbformat_minor": 4
}
