{
 "cells": [
  {
   "cell_type": "code",
   "execution_count": 1,
   "metadata": {},
   "outputs": [],
   "source": [
    "from datetime import datetime\n",
    "import os\n",
    "import pandas\n",
    "import re"
   ]
  },
  {
   "cell_type": "code",
   "execution_count": 2,
   "metadata": {},
   "outputs": [],
   "source": [
    "EX_RUNTIME = 300 # seconds"
   ]
  },
  {
   "cell_type": "code",
   "execution_count": 15,
   "metadata": {},
   "outputs": [
    {
     "name": "stdout",
     "output_type": "stream",
     "text": [
      "[<DirEntry 'oayotman'>, <DirEntry 'ghtacefn'>, <DirEntry 'alqxmewb'>, <DirEntry 'alqxmewb2'>, <DirEntry 'alqxmewb-batch1'>]\n"
     ]
    }
   ],
   "source": [
    "dir = os.scandir('raw/')\n",
    "experiments = list(filter(lambda x: x.is_dir() and x.name[0] != '.', dir))\n",
    "print(experiments)"
   ]
  },
  {
   "cell_type": "code",
   "execution_count": 22,
   "metadata": {},
   "outputs": [],
   "source": [
    "def experiment_to_csv(path):\n",
    "    jobs = pandas.read_csv(f'{experiment.path}/design20epochs.csv')\n",
    "    jobs.columns.values[0] = 'Index'\n",
    "    jobs = jobs[jobs.Index >= 0]\n",
    "    \n",
    "    jobs['accuracy'] = 0.0\n",
    "    jobs['training_time'] = 0.0\n",
    "    #jobs['epochs'] = 0\n",
    "    pat = re.compile(\"accuracy: (\\d+\\.\\d+)\")\n",
    "    pat2 = re.compile(\"Wall clock time is (\\d+\\.\\d+)\")\n",
    "    for idx, row in jobs.iterrows():\n",
    "    #     {int(row.num_nodes)}\n",
    "        row.failure_rate = 0.0\n",
    "        row.failure_duration = 0.0\n",
    "        filename = f\"{int(row.Index)}-nodes8-batch{row.batch_size}-epochs{row.max_epochs}-lrate{row.learning_rate}-memory{row.memory_size}-{row.model}.log\"\n",
    "\n",
    "\n",
    "        try:\n",
    "            with open(f'{experiment.path}/{filename}', 'r') as file:\n",
    "                content = file.read()\n",
    "                result = pat.findall(content)\n",
    "                result2 = pat2.findall(content)\n",
    "                jobs.at[idx, 'accuracy'] = result[-1] if len(result) > 0 else 0\n",
    "                jobs.at[idx, 'training_time'] = result2[-1] if len(result) > 0 else 0\n",
    "                #jobs.loc[idx, 'epochs'] = len(result)\n",
    "        except FileNotFoundError as e:\n",
    "            print(e)\n",
    "            jobs.at[idx, 'accuracy'] = -1\n",
    "            jobs.at[idx, 'training_time'] = -1\n",
    "            #jobs.loc[idx, 'epochs'] = -1\n",
    "    \n",
    "    time = os.stat(f'{experiment.path}/design20epochs.csv').st_mtime\n",
    "    dt = datetime.fromtimestamp(time)\n",
    "    jobs.to_csv(f'ex-{experiment}-{dt.strftime(\"%Y-%m-%d_%H:%M\")}.csv')\n",
    "    jobs\n",
    "    print(jobs)"
   ]
  },
  {
   "cell_type": "code",
   "execution_count": 27,
   "metadata": {},
   "outputs": [
    {
     "name": "stdout",
     "output_type": "stream",
     "text": [
      "    Index  batch_size  max_epochs  learning_rate  memory_size      model  \\\n",
      "0     160         128          20          0.010         6000  lenet5.py   \n",
      "1     161         128          20          0.010         6000  bi-rnn.py   \n",
      "2     162         128          20          0.010        12000  lenet5.py   \n",
      "3     163         128          20          0.010        12000  bi-rnn.py   \n",
      "4     164         128          20          0.005         6000  lenet5.py   \n",
      "..    ...         ...         ...            ...          ...        ...   \n",
      "75    235         256          20          0.010        12000  bi-rnn.py   \n",
      "76    236         256          20          0.005         6000  lenet5.py   \n",
      "77    237         256          20          0.005         6000  bi-rnn.py   \n",
      "78    238         256          20          0.005        12000  lenet5.py   \n",
      "79    239         256          20          0.005        12000  bi-rnn.py   \n",
      "\n",
      "    accuracy  training_time  \n",
      "0     0.9581  530781.844851  \n",
      "1     0.6701  884054.183743  \n",
      "2     0.9590  533839.136942  \n",
      "3     0.7118  881718.386566  \n",
      "4     0.9366  521120.548726  \n",
      "..       ...            ...  \n",
      "75    0.4596  607293.760268  \n",
      "76    0.9082  305034.429311  \n",
      "77    0.3119  604957.285893  \n",
      "78    0.9158  306380.076253  \n",
      "79    0.2452  618126.694887  \n",
      "\n",
      "[80 rows x 8 columns]\n"
     ]
    }
   ],
   "source": [
    "#for experiment in experiments:\n",
    "experiment = experiments[0]\n",
    "if os.path.exists(f'{experiment.path}/design20epochs.csv'):\n",
    "    experiment_to_csv(experiment.path)"
   ]
  },
  {
   "cell_type": "code",
   "execution_count": null,
   "metadata": {},
   "outputs": [],
   "source": []
  },
  {
   "cell_type": "code",
   "execution_count": null,
   "metadata": {},
   "outputs": [],
   "source": []
  }
 ],
 "metadata": {
  "kernelspec": {
   "display_name": "Python 3",
   "language": "python",
   "name": "python3"
  },
  "language_info": {
   "codemirror_mode": {
    "name": "ipython",
    "version": 3
   },
   "file_extension": ".py",
   "mimetype": "text/x-python",
   "name": "python",
   "nbconvert_exporter": "python",
   "pygments_lexer": "ipython3",
   "version": "3.6.12"
  }
 },
 "nbformat": 4,
 "nbformat_minor": 2
}
