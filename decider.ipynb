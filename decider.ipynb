{
 "cells": [
  {
   "cell_type": "markdown",
   "metadata": {},
   "source": [
    "### Mushroom"
   ]
  },
  {
   "cell_type": "code",
   "execution_count": 153,
   "metadata": {
    "ExecuteTime": {
     "end_time": "2020-10-23T10:10:27.598854Z",
     "start_time": "2020-10-23T10:10:27.588853Z"
    }
   },
   "outputs": [],
   "source": [
    "import pandas as pd\n",
    "import numpy as np\n",
    "\n",
    "\n",
    "# Note that I added one line to this file, namely the names from the dataset attribute information.\n",
    "data = pd.read_csv(\"results.csv\")"
   ]
  },
  {
   "cell_type": "code",
   "execution_count": 154,
   "metadata": {
    "ExecuteTime": {
     "end_time": "2020-10-23T10:10:32.082370Z",
     "start_time": "2020-10-23T10:10:29.751368Z"
    }
   },
   "outputs": [],
   "source": [
    "# sort the data\n",
    "data_sorted = data.copy()\n",
    "counter = 0\n",
    "for k in range(3):\n",
    "    for i in range(48):\n",
    "        for j in range(5):\n",
    "            data_sorted.iloc[counter] = data.iloc[(48*j + i)+k*240]\n",
    "            counter += 1"
   ]
  },
  {
   "cell_type": "code",
   "execution_count": 166,
   "metadata": {
    "ExecuteTime": {
     "end_time": "2020-10-23T10:10:32.165368Z",
     "start_time": "2020-10-23T10:10:32.124369Z"
    }
   },
   "outputs": [
    {
     "data": {
      "text/plain": [
       "144"
      ]
     },
     "execution_count": 166,
     "metadata": {},
     "output_type": "execute_result"
    }
   ],
   "source": [
    "# Take the mean of experiments\n",
    "med_data = data_sorted.values[:,1:]\n",
    "new_data = []\n",
    "for i in range(int(len(med_data)/5)):\n",
    "    new_data.append([med_data[i*5, 0], med_data[i*5, 1], med_data[i*5, 2], med_data[i*5, 3], med_data[i*5, 4], med_data[i*5, 5], (med_data[int(5*i+0), 7]+med_data[int(5*i+1), 7]+med_data[int(5*i+2), 7]+med_data[int(5*i+3), 7]+med_data[int(5*i+4),7])/5])\n",
    "len(new_data)\n"
   ]
  },
  {
   "cell_type": "code",
   "execution_count": 167,
   "metadata": {
    "ExecuteTime": {
     "end_time": "2020-10-23T10:10:34.260369Z",
     "start_time": "2020-10-23T10:10:34.255370Z"
    }
   },
   "outputs": [],
   "source": [
    "new_data = np.asarray(new_data, dtype=object)\n"
   ]
  },
  {
   "cell_type": "code",
   "execution_count": 168,
   "metadata": {
    "ExecuteTime": {
     "end_time": "2020-10-23T10:10:38.383419Z",
     "start_time": "2020-10-23T10:10:38.365417Z"
    }
   },
   "outputs": [],
   "source": [
    "res_data = []\n",
    "for i in range(int(len(new_data)/3)):\n",
    "    bestSetup = \"\"\n",
    "    if (new_data[int(i+0*len(new_data)/3), 6] > new_data[int(i+1*len(new_data)/3), 6]):\n",
    "        if new_data[int(i+1*len(new_data)/3), 6] > new_data[int(i+2*len(new_data)/3), 6]:\n",
    "            bestSetup = \"optimized\"\n",
    "        else:\n",
    "            bestSetup = \"hybrid\"\n",
    "    else:\n",
    "        if new_data[int(i+0*len(new_data)/3), 6] > new_data[int(i+2*len(new_data)/3), 6]:\n",
    "            bestSetup = \"optimized\"\n",
    "        else:\n",
    "            bestSetup = \"standard\"\n",
    "    res_data.append([new_data[i, 1], new_data[i, 2], new_data[i, 3], new_data[i, 4], new_data[i, 5], bestSetup])"
   ]
  },
  {
   "cell_type": "code",
   "execution_count": 169,
   "metadata": {
    "ExecuteTime": {
     "end_time": "2020-10-23T10:28:21.758156Z",
     "start_time": "2020-10-23T10:28:21.732156Z"
    }
   },
   "outputs": [],
   "source": [
    "res_data_cost_based_inter = []\n",
    "for i in range(int(len(new_data)/3)):\n",
    "    res_data_cost_based_inter.append(np.append(new_data[int(i+0*len(new_data)/3),:6],new_data[int(i+0*len(new_data)/3),6]*0.194236/3600000))\n",
    "    res_data_cost_based_inter.append(np.append(new_data[int(i+1*len(new_data)/3),:6],new_data[int(i+1*len(new_data)/3),6]*(0.2088+0.194236)/2/3600000))\n",
    "    res_data_cost_based_inter.append(np.append(new_data[int(i+2*len(new_data)/3),:6],new_data[int(i+2*len(new_data)/3),6]*0.2088/3600000))"
   ]
  },
  {
   "cell_type": "code",
   "execution_count": 170,
   "metadata": {
    "ExecuteTime": {
     "end_time": "2020-10-23T10:54:50.130630Z",
     "start_time": "2020-10-23T10:54:50.123632Z"
    }
   },
   "outputs": [],
   "source": [
    "res_data_cost_based_inter = np.asarray(res_data_cost_based_inter, dtype=object)"
   ]
  },
  {
   "cell_type": "code",
   "execution_count": 171,
   "metadata": {
    "ExecuteTime": {
     "end_time": "2020-10-23T10:54:51.763621Z",
     "start_time": "2020-10-23T10:54:51.744619Z"
    }
   },
   "outputs": [],
   "source": [
    "dfcost = pd.DataFrame(res_data_cost_based_inter)"
   ]
  },
  {
   "cell_type": "code",
   "execution_count": 172,
   "metadata": {
    "ExecuteTime": {
     "end_time": "2020-10-23T11:45:49.301865Z",
     "start_time": "2020-10-23T11:45:49.276849Z"
    }
   },
   "outputs": [],
   "source": [
    "res_data_cost_based = []\n",
    "for i in range(int(len(res_data_cost_based_inter)/3)):\n",
    "    bestSetup = \"\"\n",
    "    if (res_data_cost_based_inter[int(3*i+0), 6] > res_data_cost_based_inter[int(3*i+1), 6]):\n",
    "        if res_data_cost_based_inter[int(3*i+1), 6] > res_data_cost_based_inter[int(3*i+2), 6]:\n",
    "            bestSetup = res_data_cost_based_inter[int(3*i+2), 0]\n",
    "        else:\n",
    "            bestSetup = res_data_cost_based_inter[int(3*i+1), 0]\n",
    "    else:\n",
    "        if res_data_cost_based_inter[int(3*i+0), 6] > res_data_cost_based_inter[int(3*i+2), 6]:\n",
    "            bestSetup = res_data_cost_based_inter[int(3*i+2), 0]\n",
    "        else:\n",
    "            bestSetup = res_data_cost_based_inter[int(3*i+0), 0]\n",
    "    res_data_cost_based.append([res_data_cost_based_inter[3*i, 1], res_data_cost_based_inter[i, 2], res_data_cost_based_inter[i, 3], res_data_cost_based_inter[i, 4], res_data_cost_based_inter[i, 5], bestSetup])"
   ]
  },
  {
   "cell_type": "code",
   "execution_count": 173,
   "metadata": {
    "ExecuteTime": {
     "end_time": "2020-10-23T11:47:17.024425Z",
     "start_time": "2020-10-23T11:47:16.998428Z"
    }
   },
   "outputs": [],
   "source": [
    "df = pd.DataFrame(res_data_cost_based)\n",
    "from sklearn import preprocessing\n",
    "le = preprocessing.LabelEncoder()\n",
    "le2 = preprocessing.LabelEncoder()\n",
    "le.fit(['standard', 'hybrid', 'optimized'])\n",
    "le2.fit(['bi-rnn.py', 'lenet5.py'])\n",
    "df[5] = le.transform(df[5])\n",
    "df[4] = le2.transform(df[4])\n"
   ]
  },
  {
   "cell_type": "code",
   "execution_count": 174,
   "metadata": {
    "ExecuteTime": {
     "end_time": "2020-10-23T11:47:17.799428Z",
     "start_time": "2020-10-23T11:47:17.765438Z"
    }
   },
   "outputs": [],
   "source": [
    "import sklearn.preprocessing as pp\n",
    "# data = data.apply(pp.LabelEncoder().fit_transform)\n",
    "X = df.iloc[:,:-1]\n",
    "y = df.iloc[:, 5]\n",
    "for col in X.columns:\n",
    "    X[col].astype('category')"
   ]
  },
  {
   "cell_type": "code",
   "execution_count": 177,
   "metadata": {
    "ExecuteTime": {
     "end_time": "2020-10-23T11:47:21.576432Z",
     "start_time": "2020-10-23T11:47:18.886425Z"
    }
   },
   "outputs": [
    {
     "name": "stdout",
     "output_type": "stream",
     "text": [
      "MLP Accuracy: 100.0%\n",
      "MLP Accuracy: 100.0%\n",
      "MLP Accuracy: 93.33333333333333%\n",
      "MLP Accuracy: 90.0%\n",
      "MLP Accuracy: 92.0%\n",
      "MLP Accuracy: 93.33333333333333%\n",
      "MLP Accuracy: 91.42857142857143%\n",
      "MLP Accuracy: 92.5%\n",
      "MLP Accuracy: 91.11111111111111%\n",
      "MLP Accuracy: 90.0%\n"
     ]
    }
   ],
   "source": [
    "svmN = 0\n",
    "svmV = 0\n",
    "knnN = 0\n",
    "knnV = 0\n",
    "mlpN = 0\n",
    "mlpV = 0\n",
    "lrN = 0\n",
    "lrV = 0\n",
    "lr2N = 0\n",
    "lr2V = 0\n",
    "ldV = 0\n",
    "ldN = 0\n",
    "gnbN = 0\n",
    "gnbV = 0\n",
    "dtcN = 0\n",
    "dtcV = 0\n",
    "from sklearn.model_selection import train_test_split\n",
    "from sklearn.metrics import accuracy_score\n",
    "from sklearn.neural_network import MLPClassifier\n",
    "from sklearn.neighbors import KNeighborsClassifier\n",
    "from sklearn import svm\n",
    "from sklearn import linear_model\n",
    "from sklearn.discriminant_analysis import LinearDiscriminantAnalysis\n",
    "from sklearn.naive_bayes import GaussianNB\n",
    "from sklearn.tree import DecisionTreeClassifier\n",
    "for i in range(10):\n",
    "    x_train, x_test, y_train, y_test = train_test_split(X, y, test_size = 0.1)\n",
    "    \n",
    "#     DATA IS SCALED, SHOULD ALSO BE SCALED FOR INPUT!\n",
    "    scaler = preprocessing.StandardScaler().fit(x_train)\n",
    "    X_train_scaled = scaler.transform(x_train)\n",
    "    X_test_scaled = scaler.transform(x_test)\n",
    "\n",
    "\n",
    "    mlp_clf = MLPClassifier(max_iter=2000, solver=\"sgd\")\n",
    "    mlp_clf.fit(X_train_scaled, y_train)\n",
    "    y_pred = mlp_clf.predict(X_test_scaled)\n",
    "    mlpV +=accuracy_score(y_test, y_pred)*100\n",
    "    mlpN +=1\n",
    "    print(\"MLP Accuracy: \" + str(mlpV/mlpN) + \"%\")\n"
   ]
  },
  {
   "cell_type": "code",
   "execution_count": 178,
   "metadata": {
    "ExecuteTime": {
     "end_time": "2020-10-23T12:11:41.718443Z",
     "start_time": "2020-10-23T12:11:41.685444Z"
    }
   },
   "outputs": [],
   "source": [
    "dfscaled = pd.DataFrame(X_train_scaled)\n",
    "dfscaled2 = pd.DataFrame()\n",
    "dfscaled2['batchsize']=dfscaled[0]\n",
    "dfscaled2['maxepochs']=dfscaled[1]\n",
    "dfscaled2['learningrate']=dfscaled[2]\n",
    "dfscaled2['memorysize']=dfscaled[3]\n",
    "dfscaled2['model']=dfscaled[4]\n",
    "dfscaled2['setup']=y_train.values"
   ]
  },
  {
   "cell_type": "code",
   "execution_count": 179,
   "metadata": {
    "ExecuteTime": {
     "end_time": "2020-10-23T09:14:27.943920Z",
     "start_time": "2020-10-23T09:14:27.847923Z"
    },
    "scrolled": true
   },
   "outputs": [
    {
     "name": "stdout",
     "output_type": "stream",
     "text": [
      "[0,0,0,0,1,1,0,0,0,0,0,0,1,1,1,1,0,0,0,0,0,0,1,1,0,0,0,0,0,0]\n"
     ]
    }
   ],
   "source": [
    "# batch_size\tmax_epochs\tlearning_rate\tmemory_size\tmodel\n",
    "df2 = pd.read_csv(\"design_final.csv\")[:30]\n",
    "from sklearn import preprocessing\n",
    "le = preprocessing.LabelEncoder()\n",
    "le.fit(['bi-rnn.py', 'lenet5.py'])\n",
    "df2['model'] = le.transform(df2['model'])\n",
    "df2 = df2.drop(df2.columns[0], axis=1)\n",
    "\n",
    "mlpPred = mlp_clf.predict(scaler.transform(df2))\n",
    "print(\"[\"+','.join(map(str, mlpPred)) + \"]\")\n",
    "\n"
   ]
  },
  {
   "cell_type": "code",
   "execution_count": null,
   "metadata": {},
   "outputs": [],
   "source": []
  },
  {
   "cell_type": "code",
   "execution_count": null,
   "metadata": {},
   "outputs": [],
   "source": []
  }
 ],
 "metadata": {
  "kernelspec": {
   "display_name": "Python 3",
   "language": "python",
   "name": "python3"
  },
  "language_info": {
   "codemirror_mode": {
    "name": "ipython",
    "version": 3
   },
   "file_extension": ".py",
   "mimetype": "text/x-python",
   "name": "python",
   "nbconvert_exporter": "python",
   "pygments_lexer": "ipython3",
   "version": "3.6.12"
  },
  "varInspector": {
   "cols": {
    "lenName": 16,
    "lenType": 16,
    "lenVar": 40
   },
   "kernels_config": {
    "python": {
     "delete_cmd_postfix": "",
     "delete_cmd_prefix": "del ",
     "library": "var_list.py",
     "varRefreshCmd": "print(var_dic_list())"
    },
    "r": {
     "delete_cmd_postfix": ") ",
     "delete_cmd_prefix": "rm(",
     "library": "var_list.r",
     "varRefreshCmd": "cat(var_dic_list()) "
    }
   },
   "oldHeight": 219.86,
   "position": {
    "height": "40px",
    "left": "1637.31px",
    "right": "20px",
    "top": "126.972px",
    "width": "415.99px"
   },
   "types_to_exclude": [
    "module",
    "function",
    "builtin_function_or_method",
    "instance",
    "_Feature"
   ],
   "varInspector_section_display": "none",
   "window_display": true
  }
 },
 "nbformat": 4,
 "nbformat_minor": 2
}
