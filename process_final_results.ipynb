{
 "cells": [
  {
   "cell_type": "code",
   "execution_count": 44,
   "metadata": {},
   "outputs": [],
   "source": [
    "from pyDOE2 import *\n",
    "import pandas as pd\n",
    "import numpy as np\n",
    "import scipy.stats as stats\n",
    "import researchpy as rp\n",
    "import statsmodels.api as sm\n",
    "from statsmodels.formula.api import ols\n",
    "import matplotlib.pyplot as plt"
   ]
  },
  {
   "cell_type": "code",
   "execution_count": 45,
   "metadata": {},
   "outputs": [],
   "source": [
    "data_shuffeled = pd.read_csv(\"results_final.csv\")\n",
    "data = data_shuffeled.copy()\n",
    "counter = 0\n",
    "for k in range(3):\n",
    "    for i in range(30):\n",
    "        for j in range(5):\n",
    "            data.iloc[counter] = data_shuffeled.iloc[(30*j + i)+k*150]\n",
    "            counter += 1\n",
    "            \n",
    "training_time = data['training_time']"
   ]
  },
  {
   "cell_type": "code",
   "execution_count": 46,
   "metadata": {},
   "outputs": [],
   "source": [
    "setup1 = data[:150]\n",
    "setup2 = data[150:300]\n",
    "setup3 = data[300:450]"
   ]
  },
  {
   "cell_type": "code",
   "execution_count": 56,
   "metadata": {},
   "outputs": [],
   "source": [
    "price_standard =  0.194236\n",
    "price_optimized = 0.2088\n",
    "\n",
    "standard_price = data['training_time'][:150] / 3600000 * (price_standard)\n",
    "hybrid_price = data['training_time'][150:300] / 3600000 * (price_standard + price_optimized)/2\n",
    "optimized_price = data['training_time'][300:450] / 3600000 * (price_optimized)\n",
    "\n",
    "data['price'] = pd.concat([standard_price, hybrid_price, optimized_price])"
   ]
  },
  {
   "cell_type": "code",
   "execution_count": 57,
   "metadata": {},
   "outputs": [
    {
     "name": "stdout",
     "output_type": "stream",
     "text": [
      "    Unnamed: 0  Index setup  batch_size  max_epochs  learning_rate  \\\n",
      "0         60.0   60.0   NaN       152.0         3.0          0.010   \n",
      "1         61.0   61.0   NaN       152.0         3.0          0.010   \n",
      "2         62.0   62.0   NaN       184.0         4.0          0.070   \n",
      "3         63.0   63.0   NaN       184.0         4.0          0.070   \n",
      "4         64.0   64.0   NaN       112.0        17.0          0.005   \n",
      "..         ...    ...   ...         ...         ...            ...   \n",
      "85       385.0  385.0   NaN       128.0        27.0          0.020   \n",
      "86       386.0  386.0   NaN       192.0        18.0          0.010   \n",
      "87       387.0  387.0   NaN       192.0        18.0          0.010   \n",
      "88       388.0  388.0   NaN       256.0        12.0          0.015   \n",
      "89       389.0  389.0   NaN       256.0        12.0          0.015   \n",
      "\n",
      "    memory_size model  accuracy  training_time     price  \n",
      "0       12000.0   NaN   0.89074   8.616064e+04  0.004649  \n",
      "1       12000.0   NaN   0.19320   1.320060e+05  0.007122  \n",
      "2       12000.0   NaN   0.97092   9.566715e+04  0.005162  \n",
      "3       12000.0   NaN   0.89230   1.553578e+05  0.008382  \n",
      "4       12000.0   NaN   0.93452   4.924908e+05  0.026572  \n",
      "..          ...   ...       ...            ...       ...  \n",
      "85      12000.0   NaN   0.96276   1.097572e+06  0.063659  \n",
      "86      12000.0   NaN   0.95176   3.285851e+05  0.019058  \n",
      "87      12000.0   NaN   0.54414   5.776805e+05  0.033505  \n",
      "88      12000.0   NaN   0.94522   1.861638e+05  0.010798  \n",
      "89      12000.0   NaN   0.47990   3.428241e+05  0.019884  \n",
      "\n",
      "[90 rows x 11 columns]\n"
     ]
    }
   ],
   "source": [
    "means = data.copy()[:90]\n",
    "\n",
    "for i in range (0, len(data), 5):\n",
    "    means.iloc[int(i/5)] = data.iloc[i:i+5].mean()\n",
    "print(means)\n",
    "\n",
    "setup1_mean = means[:30]\n",
    "setup2_mean = means[30:60]\n",
    "setup3_mean = means[60:90]"
   ]
  },
  {
   "cell_type": "code",
   "execution_count": 133,
   "metadata": {},
   "outputs": [
    {
     "name": "stdout",
     "output_type": "stream",
     "text": [
      "Cost improvement standard: -0.005656376471832931\n",
      "Time improvement standard: -0.05448012787552318\n",
      "Cost improvement optimized: -0.050997448325598674\n",
      "Time improvement optimized: -0.050997448325598674\n"
     ]
    }
   ],
   "source": [
    "occurences = []\n",
    "occ = []\n",
    "bins =['standard', 'hybrid', 'optimized']\n",
    "for i in range(len(setup1_mean)):\n",
    "    if setup1_mean['training_time'].iloc[i] < setup2_mean['training_time'].iloc[i] and setup1_mean['training_time'].iloc[i] < setup3_mean['training_time'].iloc[i]:\n",
    "        occurences.append('standard')\n",
    "        occ.append(2)\n",
    "    if setup2_mean['training_time'].iloc[i] < setup1_mean['training_time'].iloc[i] and setup2_mean['training_time'].iloc[i] < setup3_mean['training_time'].iloc[i]:\n",
    "        occurences.append('hybrid')\n",
    "        occ.append(0)\n",
    "    if setup3_mean['training_time'].iloc[i] < setup1_mean['training_time'].iloc[i] and setup3_mean['training_time'].iloc[i] < setup2_mean['training_time'].iloc[i]:\n",
    "        occurences.append('optimized')\n",
    "        occ.append(1)\n",
    "        \n",
    "optcost = 0\n",
    "opttime = 0\n",
    "for i in range(len(occ)):\n",
    "    if occ[i] == 0:\n",
    "        optcost += setup2_mean['price'].iloc[i]\n",
    "        opttime += setup2_mean['training_time'].iloc[i]\n",
    "    if occ[i] == 1:\n",
    "        optcost += setup3_mean['price'].iloc[i]\n",
    "        opttime += setup3_mean['training_time'].iloc[i]\n",
    "    if occ[i] == 2:\n",
    "        optcost += setup1_mean['price'].iloc[i]\n",
    "        opttime += setup1_mean['training_time'].iloc[i]\n",
    "        \n",
    "\n",
    "\n",
    "\n",
    "standardcost = setup1_mean['price'].sum()\n",
    "standardtime = setup1_mean['training_time'].sum()\n",
    "improvementcoststandard = (optcost-standardcost)/standardcost\n",
    "improvementtimestandard = (opttime-standardtime)/standardtime\n",
    "\n",
    "optimizedcost = setup3_mean['price'].sum()\n",
    "optimizedtime = setup3_mean['training_time'].sum()\n",
    "improvementcostoptimized = (optcost-optimizedcost)/optimizedcost\n",
    "improvementtimeoptimized = (opttime-optimizedtime)/optimizedtime\n",
    "\n",
    "\n",
    "\n",
    "print(\"Cost improvement standard: \" + str(improvementcoststandard))\n",
    "print(\"Time improvement standard: \" + str(improvementtimestandard))\n",
    "\n",
    "print(\"Cost improvement optimized: \" + str(improvementcostoptimized))\n",
    "print(\"Time improvement optimized: \" + str(improvementcostoptimized))"
   ]
  },
  {
   "cell_type": "code",
   "execution_count": 134,
   "metadata": {},
   "outputs": [
    {
     "name": "stdout",
     "output_type": "stream",
     "text": [
      "Cost improvement standard: 0.00814200615033185\n",
      "Time improvement standard: -0.03785466369643794\n",
      "Cost improvement optimized: -0.037828258110498794\n",
      "Time improvement optimized: -0.037828258110498794\n"
     ]
    }
   ],
   "source": [
    "# MLP told this was optimal\n",
    "array =[0,0,0,0,1,1,0,0,0,0,0,0,1,1,1,1,0,0,0,0,0,0,1,1,0,0,0,0,0,0]\n",
    "\n",
    "optcost = 0\n",
    "opttime = 0\n",
    "for i in range(len(array)):\n",
    "    if array[i] == 0:\n",
    "        optcost += setup2_mean['price'].iloc[i]\n",
    "        opttime += setup2_mean['training_time'].iloc[i]\n",
    "    if array[i] == 1:\n",
    "        optcost += setup3_mean['price'].iloc[i]\n",
    "        opttime += setup3_mean['training_time'].iloc[i]\n",
    "    if array[i] == 2:\n",
    "        optcost += setup1_mean['price'].iloc[i]\n",
    "        opttime += setup1_mean['training_time'].iloc[i]\n",
    "        \n",
    "\n",
    "\n",
    "\n",
    "standardcost = setup1_mean['price'].sum()\n",
    "standardtime = setup1_mean['training_time'].sum()\n",
    "improvementcoststandard = (optcost-standardcost)/standardcost\n",
    "improvementtimestandard = (opttime-standardtime)/standardtime\n",
    "\n",
    "optimizedcost = setup3_mean['price'].sum()\n",
    "optimizedtime = setup3_mean['training_time'].sum()\n",
    "improvementcostoptimized = (optcost-optimizedcost)/optimizedcost\n",
    "improvementtimeoptimized = (opttime-optimizedtime)/optimizedtime\n",
    "\n",
    "\n",
    "\n",
    "print(\"Cost improvement standard: \" + str(improvementcoststandard))\n",
    "print(\"Time improvement standard: \" + str(improvementtimestandard))\n",
    "\n",
    "print(\"Cost improvement optimized: \" + str(improvementcostoptimized))\n",
    "print(\"Time improvement optimized: \" + str(improvementcostoptimized))\n",
    "\n",
    "    \n",
    "    \n",
    "        "
   ]
  },
  {
   "cell_type": "code",
   "execution_count": 135,
   "metadata": {},
   "outputs": [
    {
     "data": {
      "text/plain": [
       "<AxesSubplot:xlabel='accuracy', ylabel='training_time'>"
      ]
     },
     "execution_count": 135,
     "metadata": {},
     "output_type": "execute_result"
    },
    {
     "data": {
      "text/plain": [
       "<Figure size 432x288 with 0 Axes>"
      ]
     },
     "metadata": {},
     "output_type": "display_data"
    },
    {
     "data": {
      "image/png": "[encoded data removed]",
      "text/plain": [
       "<Figure size 432x288 with 1 Axes>"
      ]
     },
     "metadata": {
      "needs_background": "light"
     },
     "output_type": "display_data"
    }
   ],
   "source": [
    "fig1 = plt.figure()\n",
    "ax=setup1.plot.scatter(x='accuracy', y='training_time', color='r')\n",
    "setup2.plot.scatter(x='accuracy', y='training_time', color='b', ax=ax)\n",
    "setup3.plot.scatter(x='accuracy', y='training_time', color='g', ax=ax)"
   ]
  },
  {
   "cell_type": "code",
   "execution_count": null,
   "metadata": {},
   "outputs": [],
   "source": []
  }
 ],
 "metadata": {
  "kernelspec": {
   "display_name": "Python 3",
   "language": "python",
   "name": "python3"
  },
  "language_info": {
   "codemirror_mode": {
    "name": "ipython",
    "version": 3
   },
   "file_extension": ".py",
   "mimetype": "text/x-python",
   "name": "python",
   "nbconvert_exporter": "python",
   "pygments_lexer": "ipython3",
   "version": "3.6.12"
  }
 },
 "nbformat": 4,
 "nbformat_minor": 4
}
